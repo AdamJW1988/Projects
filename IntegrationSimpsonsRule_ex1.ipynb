{
 "cells": [
  {
   "attachments": {
    "image.png": {
     "image/png": "[encoded data removed]"
    }
   },
   "cell_type": "markdown",
   "metadata": {},
   "source": [
    "# Integration using Simpson's Rule\n",
    "\n",
    "Here we will calculate a simple integral using Simpson's rule. The rule involves fitting quadratic curves to pairs of slices and then calculating the area under the quadratics, as shown in the image below.\n",
    "\n",
    "![image.png](attachment:image.png)\n",
    "\n",
    "After some derivations the final result, for an integral between 2 boundaries a and b, is\n",
    "\n",
    "$I(a,b) \\sim \\frac{1}{3}h[f(a)+f(b)+4 \\sum_{\\text{k odd}}f(a+kh)+2\\sum_{\\text{k even}}f(a+kh)$]\n",
    "\n",
    "Here $k$ is the slice, and $h$ is the slice width, determined by the difference between the boundaries over the number of slices $N$. \n",
    "\n",
    "The integral to be solved is\n",
    "\n",
    "$E(x)=\\int_0^x e^{-t^2}dt$\n"
   ]
  },
  {
   "cell_type": "code",
   "execution_count": 1,
   "metadata": {},
   "outputs": [
    {
     "name": "stdout",
     "output_type": "stream",
     "text": [
      "The integral is equal to:  0.886207348159786\n"
     ]
    }
   ],
   "source": [
    "# This program calculates a specific integral\n",
    "from math import exp\n",
    "\n",
    "def g(t):\n",
    "    return exp(-t**2)\n",
    "\n",
    "N = 100\n",
    "a = 0.0\n",
    "b = 3.0\n",
    "h = (b-a)/N\n",
    "\n",
    "s = g(a) + g(b)\n",
    "\n",
    "for k in range(1,N,2):\n",
    "    s += 4*g(a+k*h)\n",
    "\n",
    "for k in range(2,N,2):\n",
    "    s += 2*g(a+k*h)\n",
    "    \n",
    "print(\"The integral is equal to: \", (1/3)*h*s)"
   ]
  },
  {
   "cell_type": "markdown",
   "metadata": {},
   "source": [
    "We can also plot the integral for generic $x$, as follows:"
   ]
  },
  {
   "cell_type": "code",
   "execution_count": 2,
   "metadata": {},
   "outputs": [
    {
     "name": "stdout",
     "output_type": "stream",
     "text": [
      "Enter number of slices: 100\n"
     ]
    },
    {
     "data": {
      "image/png": "[encoded data removed]",
      "text/plain": [
       "<Figure size 432x288 with 1 Axes>"
      ]
     },
     "metadata": {
      "needs_background": "light"
     },
     "output_type": "display_data"
    }
   ],
   "source": [
    "# This program calculates a specific integral and plots it as function of \n",
    "# its limits\n",
    "\n",
    "from pylab import plot,show,xlabel,ylabel\n",
    "from numpy import linspace,array\n",
    "from math import exp\n",
    "\n",
    "def g(t):\n",
    "    return exp(-t**2)\n",
    "\n",
    "# Integrate using Simpson's rule\n",
    "   \n",
    "N = int(input(\"Enter number of slices: \"))\n",
    " \n",
    "def E(x):\n",
    "    a = 0\n",
    "    b = x\n",
    "    h = (b-a)/N\n",
    "    \n",
    "    oddsum = 0\n",
    "    for k in range(1,N,2):\n",
    "        oddsum += g(a+k*h)\n",
    "    \n",
    "    evensum = 0\n",
    "    for k in range(2,N,2):\n",
    "        evensum += g(a+k*h)\n",
    "    \n",
    "    return (1/3)*h*(g(a)+g(b)+4*oddsum+2*evensum)\n",
    "\n",
    "# plot E(x)\n",
    "\n",
    "points = linspace(0,3,100)\n",
    "values = list(map(E,points)) # This takes the function E(x), maps it to \n",
    "                             # points, makes a list, then an array (optional)\n",
    "\n",
    "plot(points,values)\n",
    "xlabel(\"x\")\n",
    "ylabel(\"E(x)\")\n",
    "show()\n",
    "        "
   ]
  },
  {
   "cell_type": "code",
   "execution_count": null,
   "metadata": {},
   "outputs": [],
   "source": []
  }
 ],
 "metadata": {
  "kernelspec": {
   "display_name": "Python 3",
   "language": "python",
   "name": "python3"
  },
  "language_info": {
   "codemirror_mode": {
    "name": "ipython",
    "version": 3
   },
   "file_extension": ".py",
   "mimetype": "text/x-python",
   "name": "python",
   "nbconvert_exporter": "python",
   "pygments_lexer": "ipython3",
   "version": "3.8.3"
  }
 },
 "nbformat": 4,
 "nbformat_minor": 4
}
